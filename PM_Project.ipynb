{
  "nbformat": 4,
  "nbformat_minor": 0,
  "metadata": {
    "colab": {
      "name": "PM_Project.ipynb",
      "provenance": [],
      "toc_visible": true
    },
    "kernelspec": {
      "name": "python3",
      "display_name": "Python 3"
    },
    "accelerator": "GPU"
  },
  "cells": [
    {
      "cell_type": "markdown",
      "metadata": {
        "id": "8G_Vmllg0t8M",
        "colab_type": "text"
      },
      "source": [
        "# **RM Project**\n",
        "to download SPX data use [this link](https://finance.yahoo.com/quote/%5EGSPC/history?period1=1420070400&period2=1462060800&interval=1d&filter=history&frequency=1d)\n",
        "\n",
        "to download LIBOR data use [this link](https://www.macrotrends.net/1433/historical-libor-rates-chart)"
      ]
    },
    {
      "cell_type": "code",
      "metadata": {
        "id": "CLZqz0j9MI23",
        "colab_type": "code",
        "outputId": "d52d23a2-4ad7-4b46-93c0-4392bef5b619",
        "colab": {
          "base_uri": "https://localhost:8080/",
          "height": 51
        }
      },
      "source": [
        "import pandas as pd\n",
        "import numpy as np\n",
        "import matplotlib.pyplot as plt\n",
        "import os\n",
        "\n",
        "import seaborn as sns\n",
        "sns.set_style(\"white\")\n",
        "import altair as alt"
      ],
      "execution_count": 1,
      "outputs": [
        {
          "output_type": "stream",
          "text": [
            "/usr/local/lib/python3.6/dist-packages/statsmodels/tools/_testing.py:19: FutureWarning: pandas.util.testing is deprecated. Use the functions in the public API at pandas.testing instead.\n",
            "  import pandas.util.testing as tm\n"
          ],
          "name": "stderr"
        }
      ]
    },
    {
      "cell_type": "code",
      "metadata": {
        "id": "vonVQ5mneqV2",
        "colab_type": "code",
        "outputId": "55536dfb-bc9c-4d41-e22f-2321117fa07a",
        "colab": {
          "base_uri": "https://localhost:8080/",
          "height": 34
        }
      },
      "source": [
        "alt.data_transformers.enable('default', max_rows=None) "
      ],
      "execution_count": 2,
      "outputs": [
        {
          "output_type": "execute_result",
          "data": {
            "text/plain": [
              "DataTransformerRegistry.enable('default')"
            ]
          },
          "metadata": {
            "tags": []
          },
          "execution_count": 2
        }
      ]
    },
    {
      "cell_type": "code",
      "metadata": {
        "id": "miDcg-grVqeM",
        "colab_type": "code",
        "outputId": "24a7d474-f6ca-4447-852b-01a43f8bf83d",
        "colab": {
          "base_uri": "https://localhost:8080/",
          "height": 122
        }
      },
      "source": [
        "from google.colab import drive\n",
        "drive.mount('/content/gdrive', force_remount=True)\n",
        "\n",
        "parent_path = r'gdrive/My Drive/RM_Project/'\n"
      ],
      "execution_count": 3,
      "outputs": [
        {
          "output_type": "stream",
          "text": [
            "Go to this URL in a browser: https://accounts.google.com/o/oauth2/auth?client_id=947318989803-6bn6qk8qdgf4n4g3pfee6491hc0brc4i.apps.googleusercontent.com&redirect_uri=urn%3aietf%3awg%3aoauth%3a2.0%3aoob&response_type=code&scope=email%20https%3a%2f%2fwww.googleapis.com%2fauth%2fdocs.test%20https%3a%2f%2fwww.googleapis.com%2fauth%2fdrive%20https%3a%2f%2fwww.googleapis.com%2fauth%2fdrive.photos.readonly%20https%3a%2f%2fwww.googleapis.com%2fauth%2fpeopleapi.readonly\n",
            "\n",
            "Enter your authorization code:\n",
            "··········\n",
            "Mounted at /content/gdrive\n"
          ],
          "name": "stdout"
        }
      ]
    },
    {
      "cell_type": "code",
      "metadata": {
        "id": "fRoLeqVZWFtY",
        "colab_type": "code",
        "outputId": "8e705c37-6283-4146-b5a6-842fe422c9d4",
        "colab": {
          "base_uri": "https://localhost:8080/",
          "height": 102
        }
      },
      "source": [
        "os.listdir(parent_path)"
      ],
      "execution_count": 4,
      "outputs": [
        {
          "output_type": "execute_result",
          "data": {
            "text/plain": [
              "['OptionPrices_2015_m1_m6.csv',\n",
              " 'OptionPrices_2015_m7_m12.csv',\n",
              " 'OptionPrices_2016.csv',\n",
              " 'SP500_20150101-20160501.csv',\n",
              " 'historical-libor-rates-chart.csv']"
            ]
          },
          "metadata": {
            "tags": []
          },
          "execution_count": 4
        }
      ]
    },
    {
      "cell_type": "code",
      "metadata": {
        "id": "7RL0Xej-b_bV",
        "colab_type": "code",
        "colab": {}
      },
      "source": [
        "# import sys\n",
        "\n",
        "# local_vars = list(locals().items())\n",
        "# for var, obj in local_vars:\n",
        "#     print(var, sys.getsizeof(obj))\n",
        "#     print(var)"
      ],
      "execution_count": 0,
      "outputs": []
    },
    {
      "cell_type": "code",
      "metadata": {
        "id": "TJBATgVPWNwD",
        "colab_type": "code",
        "colab": {}
      },
      "source": [
        "def _convert_to_datetime(df):\n",
        "  df.date = pd.to_datetime(df.date.astype('Int64').astype(str), format='%Y-%m-%d').dt.date\n",
        "  df.exdate = pd.to_datetime(df.exdate.astype('Int64').astype(str), format='%Y-%m-%d').dt.date\n",
        "  # df.last_date = pd.to_datetime(df.astype('Int64').last_date.astype(str), format='%Y-%m-%d')\n",
        "  return df\n",
        "\n",
        "def _read_spx(files, path):\n",
        "  '''\n",
        "  Read from file with S&P Index data\n",
        "  '''\n",
        "  for file in files:\n",
        "    if file == 'SP500_20150101-20160501.csv':\n",
        "      dtypes = {'Date': 'str', 'Open' : 'float64', 'High': 'float64', \n",
        "                'Low': 'float64', 'Close': 'float64', 'Adj Close': 'float64', 'Volume' : 'int64'}\n",
        "      headers = ['date', 'sp_open', 'sp_high', 'sp_low', 'sp_close', 'sp_adj_close', 'sp_volume']\n",
        "      df = pd.read_csv(os.path.join(path, file), dtype=dtypes, names=headers, skiprows=1)\n",
        "      df.date = df.date.str.replace('-', '').astype(np.int64)\n",
        "  return df\n",
        "\n",
        "def _read_options(files, path):\n",
        "  '''\n",
        "  Read from files with SPX options data\n",
        "  '''\n",
        "  headers = pd.read_csv(os.path.join(path, 'OptionPrices_2016.csv'), nrows=1).columns\n",
        "  df = pd.DataFrame(columns=headers)\n",
        "\n",
        "  for file in files:\n",
        "    if file not in (['SP500_20150101-20160501.csv', 'historical-libor-rates-chart.csv']):\n",
        "      df = df.append(pd.read_csv(os.path.join(path, file)))\n",
        "  df.date = df.date.astype(np.int64)\n",
        "  return df\n",
        "\n",
        "def _read_libor(files, path):\n",
        "  '''\n",
        "  Read from file with LIBOR data\n",
        "  '''\n",
        "  for file in files:\n",
        "    if file == 'historical-libor-rates-chart.csv':\n",
        "      dtypes = {'date': 'str', '1m' : 'float64', '3m': 'float64', \n",
        "                  '6m': 'float64', '12m': 'float64'}\n",
        "      headers = ['date', 'libor_1m', 'libor_3m', 'libor_6m', 'libor_12m']\n",
        "      df = pd.read_csv(os.path.join(path, file), dtype=dtypes, names=headers, skiprows=1)\n",
        "      df.date = pd.to_datetime(df.date.astype(str), format='%m/%d/%Y').dt.date.astype('str')\n",
        "      df.date = df.date.str.replace('-', '').astype(np.int64)   \n",
        "  return df\n",
        "\n",
        "def read_files(path):\n",
        "  '''\n",
        "  Read SPX, options, LIBOR files and merge them into one dataframe\n",
        "  '''\n",
        "  files = os.listdir(path)\n",
        "  df = _read_options(files, path)\n",
        "  df_sp = _read_spx(files, path)\n",
        "  df_libor = _read_libor(files, path)\n",
        "\n",
        "  df = pd.merge(df, df_sp, on='date', how='left')\n",
        "  # df = pd.merge(df, df_libor, on='date', how='left')\n",
        "  df['year-month'] = df.date.apply(lambda x: str(x)[:6])\n",
        "  df_libor['year-month'] = df_libor.date.apply(lambda x: str(x)[:6])\n",
        "  df_libor.drop('date', axis=1, inplace=True)\n",
        "  df = pd.merge(df, df_libor, on='year-month', how='left')\n",
        "  df = _convert_to_datetime(df)\n",
        "  df.strike_price /= 1000\n",
        "  return df\n",
        "\n"
      ],
      "execution_count": 0,
      "outputs": []
    },
    {
      "cell_type": "markdown",
      "metadata": {
        "id": "6AdKwIEmqjm0",
        "colab_type": "text"
      },
      "source": [
        "# 1. Data Exploration / Visualization"
      ]
    },
    {
      "cell_type": "code",
      "metadata": {
        "id": "nsGywMXHcPnz",
        "colab_type": "code",
        "outputId": "d65da739-fdf4-4f33-b56a-79be3602e359",
        "colab": {
          "base_uri": "https://localhost:8080/",
          "height": 187
        }
      },
      "source": [
        "df_options = read_files(parent_path)\n",
        "\n",
        "df_options.columns"
      ],
      "execution_count": 7,
      "outputs": [
        {
          "output_type": "execute_result",
          "data": {
            "text/plain": [
              "Index(['secid', 'date', 'symbol', 'symbol_flag', 'exdate', 'last_date',\n",
              "       'cp_flag', 'strike_price', 'best_bid', 'best_offer', 'volume',\n",
              "       'open_interest', 'impl_volatility', 'delta', 'gamma', 'vega', 'theta',\n",
              "       'optionid', 'cfadj', 'ss_flag', 'root', 'suffix', 'cusip', 'ticker',\n",
              "       'sic', 'index_flag', 'exchange_d', 'class', 'issue_type',\n",
              "       'industry_group', 'issuer', 'div_convention', 'exercise_style',\n",
              "       'am_set_flag', 'sp_open', 'sp_high', 'sp_low', 'sp_close',\n",
              "       'sp_adj_close', 'sp_volume', 'year-month', 'libor_1m', 'libor_3m',\n",
              "       'libor_6m', 'libor_12m'],\n",
              "      dtype='object')"
            ]
          },
          "metadata": {
            "tags": []
          },
          "execution_count": 7
        }
      ]
    },
    {
      "cell_type": "code",
      "metadata": {
        "id": "q2xff4jPdvuv",
        "colab_type": "code",
        "outputId": "c7881ea3-a6dd-4e00-f8e2-5420cf3697df",
        "colab": {
          "base_uri": "https://localhost:8080/",
          "height": 646
        }
      },
      "source": [
        "# by calculating the amount of each option occurs in a dataset we calculate \n",
        "# how many days each option lived. Then we can see a distributin of the \n",
        "# options' lifetime (before the preprocessing step)\n",
        "optionid_distrib = df_options.groupby('optionid').count().symbol\n",
        "\n",
        "plt.figure(figsize=(16,7))\n",
        "sns.distplot(optionid_distrib, bins=80)\n",
        "plt.suptitle('Distribution of options\\' lifetime', fontsize=20)\n",
        "\n",
        "xmarks=[i for i in range(0,optionid_distrib.max()+1,20)]\n",
        "plt.xticks(xmarks)\n",
        "optionid_distrib.describe()"
      ],
      "execution_count": 8,
      "outputs": [
        {
          "output_type": "execute_result",
          "data": {
            "text/plain": [
              "count    39022.000000\n",
              "mean        66.517477\n",
              "std         51.736476\n",
              "min          1.000000\n",
              "25%         43.000000\n",
              "50%         63.000000\n",
              "75%         74.000000\n",
              "max        334.000000\n",
              "Name: symbol, dtype: float64"
            ]
          },
          "metadata": {
            "tags": []
          },
          "execution_count": 8
        },
        {
          "output_type": "display_data",
          "data": {
            "image/png": "[encoded data removed]",
            "text/plain": [
              "<Figure size 1152x504 with 1 Axes>"
            ]
          },
          "metadata": {
            "tags": [],
            "needs_background": "light"
          }
        }
      ]
    },
    {
      "cell_type": "code",
      "metadata": {
        "id": "NCFDt4QRoj76",
        "colab_type": "code",
        "outputId": "144adf98-78d3-4b96-d030-a35c3fdff5e4",
        "colab": {
          "base_uri": "https://localhost:8080/",
          "height": 510
        }
      },
      "source": [
        "sp_price = df_options.drop_duplicates(['date'])[['date','sp_open']]\n",
        "plt.figure(figsize=(16,7))\n",
        "sns.lineplot(x='date', y='sp_open', data=sp_price)\n",
        "plt.suptitle('S&P 500 Index price', fontsize=20)"
      ],
      "execution_count": 9,
      "outputs": [
        {
          "output_type": "execute_result",
          "data": {
            "text/plain": [
              "Text(0.5, 0.98, 'S&P 500 Index price')"
            ]
          },
          "metadata": {
            "tags": []
          },
          "execution_count": 9
        },
        {
          "output_type": "display_data",
          "data": {
            "image/png": "[encoded data removed]",
            "text/plain": [
              "<Figure size 1152x504 with 1 Axes>"
            ]
          },
          "metadata": {
            "tags": [],
            "needs_background": "light"
          }
        }
      ]
    },
    {
      "cell_type": "code",
      "metadata": {
        "id": "fWBu2IhHor3z",
        "colab_type": "code",
        "outputId": "a60db0ec-febf-4cc4-ccd9-e5d0bfd18557",
        "colab": {
          "base_uri": "https://localhost:8080/",
          "height": 405
        }
      },
      "source": [
        "plt.figure(figsize=(10,5))\n",
        "plt.figure(figsize=(10,5))\n",
        "sns.distplot(df_options.strike_price)\n",
        "plt.suptitle('Strike Price distribution', fontsize=20)"
      ],
      "execution_count": 10,
      "outputs": [
        {
          "output_type": "execute_result",
          "data": {
            "text/plain": [
              "Text(0.5, 0.98, 'Strike Price distribution')"
            ]
          },
          "metadata": {
            "tags": []
          },
          "execution_count": 10
        },
        {
          "output_type": "display_data",
          "data": {
            "text/plain": [
              "<Figure size 720x360 with 0 Axes>"
            ]
          },
          "metadata": {
            "tags": []
          }
        },
        {
          "output_type": "display_data",
          "data": {
            "image/png": "[encoded data removed]",
            "text/plain": [
              "<Figure size 720x360 with 1 Axes>"
            ]
          },
          "metadata": {
            "tags": [],
            "needs_background": "light"
          }
        }
      ]
    },
    {
      "cell_type": "code",
      "metadata": {
        "id": "dYAl-Xcxo0Su",
        "colab_type": "code",
        "outputId": "db433999-b203-4a9e-e398-12aa4a7c4eb4",
        "colab": {
          "base_uri": "https://localhost:8080/",
          "height": 388
        }
      },
      "source": [
        "plt.figure(figsize=(10,5))\n",
        "sns.distplot(df_options.sp_open)\n",
        "sns.distplot(df_options.sp_close)\n",
        "plt.suptitle('Open/Close of SPX', fontsize=20)"
      ],
      "execution_count": 11,
      "outputs": [
        {
          "output_type": "execute_result",
          "data": {
            "text/plain": [
              "Text(0.5, 0.98, 'Open/Close of SPX')"
            ]
          },
          "metadata": {
            "tags": []
          },
          "execution_count": 11
        },
        {
          "output_type": "display_data",
          "data": {
            "image/png": "[encoded data removed]",
            "text/plain": [
              "<Figure size 720x360 with 1 Axes>"
            ]
          },
          "metadata": {
            "tags": [],
            "needs_background": "light"
          }
        }
      ]
    },
    {
      "cell_type": "markdown",
      "metadata": {
        "id": "ekdf_Ss2y9wW",
        "colab_type": "text"
      },
      "source": [
        "## Feature selection"
      ]
    },
    {
      "cell_type": "markdown",
      "metadata": {
        "id": "nHCvQMrmNa5K",
        "colab_type": "text"
      },
      "source": [
        "First, let's explain here some features that will be used in our analysis.\n",
        "\n",
        "1. The **delta** of an option is defined as the rate of change of the option price with respect to the price of the underlying asset. Suppose that the delta of a call option on a stock is 0.6. This means that when the stock price changes by a small amount, the option price changes by about 60% of that amount.\n",
        "\n",
        "2. The **theta** of a portfolio of options is the rate of change of the value of the portfolio with respect to the passage of time with all else remaining the same.\n",
        "\n",
        "3. The **gamma** of a portfolio of options on an underlying asset is the rate of change of the portfolio’s delta with respect to the price of the underlying asset. It is the second partial derivative of the portfolio with respect to asset price.\n",
        "\n",
        "4. The **vega** of a portfolio of derivatives, is the rate of change of the value of the portfolio with respect to the volatility of the underlying asset.\n",
        "\n",
        "5. **time-to-maturity** - ...\n",
        "\n",
        "6. **moneyness** - ..."
      ]
    },
    {
      "cell_type": "code",
      "metadata": {
        "id": "7lPV3uHBw8LE",
        "colab_type": "code",
        "colab": {}
      },
      "source": [
        "def calculate_metrics(df):\n",
        "  '''\n",
        "  Calculate time-to-maturity, moneyness, returns of options\n",
        "  '''\n",
        "  df = _calculate_ttm(df)\n",
        "  df = _calculate_mness(df)\n",
        "  df = _calculate_returns(df)\n",
        "  return df\n",
        "\n",
        "def _calculate_ttm(df):\n",
        "  '''\n",
        "  Calculate time-to-maturity of options\n",
        "  '''\n",
        "  df['ttm'] = (df.exdate-df.date).dt.days\n",
        "  return df\n",
        "\n",
        "def _calculate_mness(df):\n",
        "  '''\n",
        "  Calculate moneyness of options\n",
        "  '''\n",
        "  df['mness'] = np.log((df.strike_price/df.sp_close).astype('float64')) / \\\n",
        "  (df.impl_volatility * np.sqrt(df.ttm))\n",
        "  return df\n",
        "\n",
        "def _calculate_returns(df):\n",
        "  '''\n",
        "  Calculate returns of options\n",
        "  '''\n",
        "  partial_df = df[['optionid','date', 'best_bid', 'sp_close', 'libor_12m']].sort_values(['optionid','date'])\n",
        "  partial_df['optionid_shifted'] = partial_df.optionid.shift(1).fillna(0)\n",
        "\n",
        "  # shifts best_bid by 1 day\n",
        "  partial_df['best_bid_shifted'] = partial_df.best_bid.shift(1).fillna(0)\n",
        "  partial_df['opt_bid_delta'] = partial_df.best_bid - partial_df.best_bid_shifted\n",
        "\n",
        "  # shifts sp_close by 1 day\n",
        "  partial_df['sp_close_shifted'] = partial_df.sp_close.shift(1).fillna(0)\n",
        "  partial_df['sp_close_delta'] = partial_df.sp_close - partial_df.sp_close_shifted\n",
        "\n",
        "  # place NaN where optionid != shifted optionid by 1 day\n",
        "  partial_df.loc[partial_df.optionid != partial_df.optionid_shifted, ['opt_bid_delta','sp_close_delta']] = np.NaN\n",
        "\n",
        "  # partial_df['calendar_dates_diff'] = partial_df.date - partial_df.date.shift(1).fillna(0)\n",
        "\n",
        "  # (option price delta) - (underlaying delta) - something. Will ask Mykola today \n",
        "  partial_df['op_returns'] = partial_df.opt_bid_delta - partial_df.sp_close_delta\n",
        "                          #  - \\\n",
        "                          # (partial_df.calendar_dates_diff*partial_df.libor_12m)/365 * \\\n",
        "                          # ()\n",
        "\n",
        "  df = pd.merge(df, partial_df[['optionid', 'date','op_returns']], on=['optionid', 'date'])\n",
        "\n",
        "  return df\n",
        "\n",
        "\n",
        "def check_duplicates(df):\n",
        "  '''\n",
        "  checking if there are duplicated entries for each option by grouping by 'optionid' and 'date'\n",
        "  '''\n",
        "  test_duplicates_df = df_options[['optionid','date', 'symbol']].groupby(['optionid','date']).agg(\n",
        "  {\n",
        "    'symbol': ['count']}\n",
        "  ).reset_index()\n",
        "  test_duplicates_df.columns = [col[0] for col in test_duplicates_df.columns]\n",
        "  test_duplicates_df = test_duplicates_df.loc[test_duplicates_df.symbol != 1]\n",
        "  if test_duplicates_df.shape[0] == 0:\n",
        "    print(\"There are no duplicate options in your dataset.\")\n",
        "  else: \n",
        "    print(f\"Found duplicate options. \\nHere is a list of them: {test_duplicates_df.optionid.unique()}\")"
      ],
      "execution_count": 0,
      "outputs": []
    },
    {
      "cell_type": "code",
      "metadata": {
        "id": "1sXfVYp49_t1",
        "colab_type": "code",
        "outputId": "d032015e-cf1c-4142-8655-1241077e98a1",
        "colab": {
          "base_uri": "https://localhost:8080/",
          "height": 170
        }
      },
      "source": [
        "df_options = calculate_metrics(df_options)\n",
        "round(df_options.op_returns.describe(), 2)"
      ],
      "execution_count": 13,
      "outputs": [
        {
          "output_type": "execute_result",
          "data": {
            "text/plain": [
              "count    2556623.00\n",
              "mean          -0.18\n",
              "std           21.19\n",
              "min         -141.50\n",
              "25%           -6.31\n",
              "50%           -0.05\n",
              "75%            5.53\n",
              "max          156.58\n",
              "Name: op_returns, dtype: float64"
            ]
          },
          "metadata": {
            "tags": []
          },
          "execution_count": 13
        }
      ]
    },
    {
      "cell_type": "code",
      "metadata": {
        "id": "sC5J2kX6N8lR",
        "colab_type": "code",
        "colab": {
          "base_uri": "https://localhost:8080/",
          "height": 34
        },
        "outputId": "01c74737-6a83-466c-e67b-4b4ef42914a0"
      },
      "source": [
        "check_duplicates(df_options)"
      ],
      "execution_count": 14,
      "outputs": [
        {
          "output_type": "stream",
          "text": [
            "There are no duplicate options in your dataset.\n"
          ],
          "name": "stdout"
        }
      ]
    },
    {
      "cell_type": "markdown",
      "metadata": {
        "id": "d8ORqQHK2LIn",
        "colab_type": "text"
      },
      "source": [
        "## Data Cleaning"
      ]
    },
    {
      "cell_type": "code",
      "metadata": {
        "id": "mqpv8LXm2JsD",
        "colab_type": "code",
        "colab": {}
      },
      "source": [
        "# Remove observations with negative bid-prices\n",
        "df_options = df_options[df_options.best_bid - df_options.best_offer <= 0]"
      ],
      "execution_count": 0,
      "outputs": []
    },
    {
      "cell_type": "code",
      "metadata": {
        "id": "ciYxroq43ISK",
        "colab_type": "code",
        "colab": {}
      },
      "source": [
        "# Delete those observations with missing information for contract implied \n",
        "# volatility\n",
        "df_options = df_options[~df_options.impl_volatility.isnull()]"
      ],
      "execution_count": 0,
      "outputs": []
    },
    {
      "cell_type": "code",
      "metadata": {
        "id": "eOKjr4l83pyk",
        "colab_type": "code",
        "colab": {}
      },
      "source": [
        "# Delete contracts with a zero observation for open interest, i.e. the\n",
        "# number of open positions in the option contract\n",
        "df_options = df_options[df_options.open_interest != 0]"
      ],
      "execution_count": 0,
      "outputs": []
    },
    {
      "cell_type": "code",
      "metadata": {
        "id": "gzkCIrJQ7Gwg",
        "colab_type": "code",
        "outputId": "f066229c-6c71-45c8-ec9f-037f4f76e3c1",
        "colab": {
          "base_uri": "https://localhost:8080/",
          "height": 404
        }
      },
      "source": [
        "plt.figure(figsize=(10,5))\n",
        "plt.figure(figsize=(10,5))\n",
        "sns.distplot(df_options.mness)\n",
        "plt.suptitle('Distribution of moneyness', fontsize=20)"
      ],
      "execution_count": 18,
      "outputs": [
        {
          "output_type": "execute_result",
          "data": {
            "text/plain": [
              "Text(0.5, 0.98, 'Distribution of moneyness')"
            ]
          },
          "metadata": {
            "tags": []
          },
          "execution_count": 18
        },
        {
          "output_type": "display_data",
          "data": {
            "text/plain": [
              "<Figure size 720x360 with 0 Axes>"
            ]
          },
          "metadata": {
            "tags": []
          }
        },
        {
          "output_type": "display_data",
          "data": {
            "image/png": "[encoded data removed]",
            "text/plain": [
              "<Figure size 720x360 with 1 Axes>"
            ]
          },
          "metadata": {
            "tags": [],
            "needs_background": "light"
          }
        }
      ]
    },
    {
      "cell_type": "code",
      "metadata": {
        "id": "anhkNWhE4b9q",
        "colab_type": "code",
        "colab": {}
      },
      "source": [
        "# Limit the moneyness range to 0 to 2 for call options and -2.5 to 0 for\n",
        "# put options\n",
        "# df_options.cp_flag.unique()\n",
        "df_options = df_options[\n",
        "           ((df_options.cp_flag == 'C') & (df_options.mness >= 0) & (df_options.mness <= 2)) |  \n",
        "           ((df_options.cp_flag == 'P') & (df_options.mness >= -2.5) & (df_options.mness <= 0))\n",
        "           ]    "
      ],
      "execution_count": 0,
      "outputs": []
    },
    {
      "cell_type": "code",
      "metadata": {
        "id": "O-6XMEV9Qld4",
        "colab_type": "code",
        "colab": {}
      },
      "source": [
        "# limit the sample to options with time-to-maturity (TTM)\n",
        "# between 1 month and 12 months\n",
        "df_options = df_options.loc[(df_options.ttm > 31) & (df_options.ttm < 365)]"
      ],
      "execution_count": 0,
      "outputs": []
    },
    {
      "cell_type": "code",
      "metadata": {
        "id": "JT9xNQm8Bwy0",
        "colab_type": "code",
        "colab": {}
      },
      "source": [
        "# Define embedded leverage\n",
        "df_options['embed_lev'] = df_options.delta * df_options.sp_close / df_options.best_bid\n",
        "df_options = df_options[(df_options['embed_lev'] < df_options['embed_lev'].quantile(.95)) \\\n",
        "                        & (df_options['embed_lev'] > df_options['embed_lev'].quantile(.05))]"
      ],
      "execution_count": 0,
      "outputs": []
    },
    {
      "cell_type": "code",
      "metadata": {
        "id": "ezGYkAh1Dh91",
        "colab_type": "code",
        "colab": {
          "base_uri": "https://localhost:8080/",
          "height": 496
        },
        "outputId": "3035be9c-0f83-43ae-99e7-22f02e06f91a"
      },
      "source": [
        "df_options.head()"
      ],
      "execution_count": 45,
      "outputs": [
        {
          "output_type": "execute_result",
          "data": {
            "text/html": [
              "<div>\n",
              "<style scoped>\n",
              "    .dataframe tbody tr th:only-of-type {\n",
              "        vertical-align: middle;\n",
              "    }\n",
              "\n",
              "    .dataframe tbody tr th {\n",
              "        vertical-align: top;\n",
              "    }\n",
              "\n",
              "    .dataframe thead th {\n",
              "        text-align: right;\n",
              "    }\n",
              "</style>\n",
              "<table border=\"1\" class=\"dataframe\">\n",
              "  <thead>\n",
              "    <tr style=\"text-align: right;\">\n",
              "      <th></th>\n",
              "      <th>secid</th>\n",
              "      <th>date</th>\n",
              "      <th>symbol</th>\n",
              "      <th>symbol_flag</th>\n",
              "      <th>exdate</th>\n",
              "      <th>last_date</th>\n",
              "      <th>cp_flag</th>\n",
              "      <th>strike_price</th>\n",
              "      <th>best_bid</th>\n",
              "      <th>best_offer</th>\n",
              "      <th>volume</th>\n",
              "      <th>open_interest</th>\n",
              "      <th>impl_volatility</th>\n",
              "      <th>delta</th>\n",
              "      <th>gamma</th>\n",
              "      <th>vega</th>\n",
              "      <th>theta</th>\n",
              "      <th>optionid</th>\n",
              "      <th>cfadj</th>\n",
              "      <th>ss_flag</th>\n",
              "      <th>root</th>\n",
              "      <th>suffix</th>\n",
              "      <th>cusip</th>\n",
              "      <th>ticker</th>\n",
              "      <th>sic</th>\n",
              "      <th>index_flag</th>\n",
              "      <th>exchange_d</th>\n",
              "      <th>class</th>\n",
              "      <th>issue_type</th>\n",
              "      <th>industry_group</th>\n",
              "      <th>issuer</th>\n",
              "      <th>div_convention</th>\n",
              "      <th>exercise_style</th>\n",
              "      <th>am_set_flag</th>\n",
              "      <th>sp_open</th>\n",
              "      <th>sp_high</th>\n",
              "      <th>sp_low</th>\n",
              "      <th>sp_close</th>\n",
              "      <th>sp_adj_close</th>\n",
              "      <th>sp_volume</th>\n",
              "      <th>year-month</th>\n",
              "      <th>libor_1m</th>\n",
              "      <th>libor_3m</th>\n",
              "      <th>libor_6m</th>\n",
              "      <th>libor_12m</th>\n",
              "      <th>ttm</th>\n",
              "      <th>mness</th>\n",
              "      <th>op_returns</th>\n",
              "      <th>embed_lev</th>\n",
              "    </tr>\n",
              "  </thead>\n",
              "  <tbody>\n",
              "    <tr>\n",
              "      <th>595</th>\n",
              "      <td>108105</td>\n",
              "      <td>2015-01-02</td>\n",
              "      <td>SPX 150220C2060000</td>\n",
              "      <td>1</td>\n",
              "      <td>2015-02-20</td>\n",
              "      <td>20150102.0</td>\n",
              "      <td>C</td>\n",
              "      <td>2060</td>\n",
              "      <td>38.6</td>\n",
              "      <td>41.1</td>\n",
              "      <td>60</td>\n",
              "      <td>1252</td>\n",
              "      <td>0.142942</td>\n",
              "      <td>0.488878</td>\n",
              "      <td>0.003730</td>\n",
              "      <td>297.0537</td>\n",
              "      <td>-147.7123</td>\n",
              "      <td>105728781</td>\n",
              "      <td>1</td>\n",
              "      <td>0</td>\n",
              "      <td>NaN</td>\n",
              "      <td>NaN</td>\n",
              "      <td>64881510</td>\n",
              "      <td>SPX</td>\n",
              "      <td>9999</td>\n",
              "      <td>1</td>\n",
              "      <td>32768</td>\n",
              "      <td>NaN</td>\n",
              "      <td>A</td>\n",
              "      <td>NaN</td>\n",
              "      <td>CBOE S&amp;P 500 INDEX</td>\n",
              "      <td>I</td>\n",
              "      <td>E</td>\n",
              "      <td>1</td>\n",
              "      <td>2058.899902</td>\n",
              "      <td>2072.360107</td>\n",
              "      <td>2046.040039</td>\n",
              "      <td>2058.199951</td>\n",
              "      <td>2058.199951</td>\n",
              "      <td>2708700000</td>\n",
              "      <td>201501</td>\n",
              "      <td>0.17</td>\n",
              "      <td>0.25</td>\n",
              "      <td>0.36</td>\n",
              "      <td>0.62</td>\n",
              "      <td>49</td>\n",
              "      <td>0.000874</td>\n",
              "      <td>NaN</td>\n",
              "      <td>26.067582</td>\n",
              "    </tr>\n",
              "    <tr>\n",
              "      <th>596</th>\n",
              "      <td>108105</td>\n",
              "      <td>2015-01-02</td>\n",
              "      <td>SPX 150220C2065000</td>\n",
              "      <td>1</td>\n",
              "      <td>2015-02-20</td>\n",
              "      <td>20150102.0</td>\n",
              "      <td>C</td>\n",
              "      <td>2065</td>\n",
              "      <td>35.6</td>\n",
              "      <td>38.1</td>\n",
              "      <td>10</td>\n",
              "      <td>982</td>\n",
              "      <td>0.140577</td>\n",
              "      <td>0.469458</td>\n",
              "      <td>0.003784</td>\n",
              "      <td>296.3324</td>\n",
              "      <td>-145.2040</td>\n",
              "      <td>106237792</td>\n",
              "      <td>1</td>\n",
              "      <td>0</td>\n",
              "      <td>NaN</td>\n",
              "      <td>NaN</td>\n",
              "      <td>64881510</td>\n",
              "      <td>SPX</td>\n",
              "      <td>9999</td>\n",
              "      <td>1</td>\n",
              "      <td>32768</td>\n",
              "      <td>NaN</td>\n",
              "      <td>A</td>\n",
              "      <td>NaN</td>\n",
              "      <td>CBOE S&amp;P 500 INDEX</td>\n",
              "      <td>I</td>\n",
              "      <td>E</td>\n",
              "      <td>1</td>\n",
              "      <td>2058.899902</td>\n",
              "      <td>2072.360107</td>\n",
              "      <td>2046.040039</td>\n",
              "      <td>2058.199951</td>\n",
              "      <td>2058.199951</td>\n",
              "      <td>2708700000</td>\n",
              "      <td>201501</td>\n",
              "      <td>0.17</td>\n",
              "      <td>0.25</td>\n",
              "      <td>0.36</td>\n",
              "      <td>0.62</td>\n",
              "      <td>49</td>\n",
              "      <td>0.003352</td>\n",
              "      <td>NaN</td>\n",
              "      <td>27.141529</td>\n",
              "    </tr>\n",
              "    <tr>\n",
              "      <th>597</th>\n",
              "      <td>108105</td>\n",
              "      <td>2015-01-02</td>\n",
              "      <td>SPX 150220C2070000</td>\n",
              "      <td>1</td>\n",
              "      <td>2015-02-20</td>\n",
              "      <td>20150102.0</td>\n",
              "      <td>C</td>\n",
              "      <td>2070</td>\n",
              "      <td>32.5</td>\n",
              "      <td>35.0</td>\n",
              "      <td>206</td>\n",
              "      <td>7134</td>\n",
              "      <td>0.137537</td>\n",
              "      <td>0.449161</td>\n",
              "      <td>0.003848</td>\n",
              "      <td>294.8206</td>\n",
              "      <td>-141.5613</td>\n",
              "      <td>105888714</td>\n",
              "      <td>1</td>\n",
              "      <td>0</td>\n",
              "      <td>NaN</td>\n",
              "      <td>NaN</td>\n",
              "      <td>64881510</td>\n",
              "      <td>SPX</td>\n",
              "      <td>9999</td>\n",
              "      <td>1</td>\n",
              "      <td>32768</td>\n",
              "      <td>NaN</td>\n",
              "      <td>A</td>\n",
              "      <td>NaN</td>\n",
              "      <td>CBOE S&amp;P 500 INDEX</td>\n",
              "      <td>I</td>\n",
              "      <td>E</td>\n",
              "      <td>1</td>\n",
              "      <td>2058.899902</td>\n",
              "      <td>2072.360107</td>\n",
              "      <td>2046.040039</td>\n",
              "      <td>2058.199951</td>\n",
              "      <td>2058.199951</td>\n",
              "      <td>2708700000</td>\n",
              "      <td>201501</td>\n",
              "      <td>0.17</td>\n",
              "      <td>0.25</td>\n",
              "      <td>0.36</td>\n",
              "      <td>0.62</td>\n",
              "      <td>49</td>\n",
              "      <td>0.005938</td>\n",
              "      <td>NaN</td>\n",
              "      <td>28.445020</td>\n",
              "    </tr>\n",
              "    <tr>\n",
              "      <th>598</th>\n",
              "      <td>108105</td>\n",
              "      <td>2015-01-02</td>\n",
              "      <td>SPX 150220C2075000</td>\n",
              "      <td>1</td>\n",
              "      <td>2015-02-20</td>\n",
              "      <td>20150102.0</td>\n",
              "      <td>C</td>\n",
              "      <td>2075</td>\n",
              "      <td>29.8</td>\n",
              "      <td>32.2</td>\n",
              "      <td>291</td>\n",
              "      <td>27205</td>\n",
              "      <td>0.135329</td>\n",
              "      <td>0.428692</td>\n",
              "      <td>0.003880</td>\n",
              "      <td>292.5075</td>\n",
              "      <td>-138.4739</td>\n",
              "      <td>105697034</td>\n",
              "      <td>1</td>\n",
              "      <td>0</td>\n",
              "      <td>NaN</td>\n",
              "      <td>NaN</td>\n",
              "      <td>64881510</td>\n",
              "      <td>SPX</td>\n",
              "      <td>9999</td>\n",
              "      <td>1</td>\n",
              "      <td>32768</td>\n",
              "      <td>NaN</td>\n",
              "      <td>A</td>\n",
              "      <td>NaN</td>\n",
              "      <td>CBOE S&amp;P 500 INDEX</td>\n",
              "      <td>I</td>\n",
              "      <td>E</td>\n",
              "      <td>1</td>\n",
              "      <td>2058.899902</td>\n",
              "      <td>2072.360107</td>\n",
              "      <td>2046.040039</td>\n",
              "      <td>2058.199951</td>\n",
              "      <td>2058.199951</td>\n",
              "      <td>2708700000</td>\n",
              "      <td>201501</td>\n",
              "      <td>0.17</td>\n",
              "      <td>0.25</td>\n",
              "      <td>0.36</td>\n",
              "      <td>0.62</td>\n",
              "      <td>49</td>\n",
              "      <td>0.008582</td>\n",
              "      <td>NaN</td>\n",
              "      <td>29.608519</td>\n",
              "    </tr>\n",
              "    <tr>\n",
              "      <th>599</th>\n",
              "      <td>108105</td>\n",
              "      <td>2015-01-02</td>\n",
              "      <td>SPX 150220C2080000</td>\n",
              "      <td>1</td>\n",
              "      <td>2015-02-20</td>\n",
              "      <td>20150102.0</td>\n",
              "      <td>C</td>\n",
              "      <td>2080</td>\n",
              "      <td>27.1</td>\n",
              "      <td>29.5</td>\n",
              "      <td>61</td>\n",
              "      <td>8021</td>\n",
              "      <td>0.132925</td>\n",
              "      <td>0.407633</td>\n",
              "      <td>0.003907</td>\n",
              "      <td>289.2947</td>\n",
              "      <td>-134.7693</td>\n",
              "      <td>105728782</td>\n",
              "      <td>1</td>\n",
              "      <td>0</td>\n",
              "      <td>NaN</td>\n",
              "      <td>NaN</td>\n",
              "      <td>64881510</td>\n",
              "      <td>SPX</td>\n",
              "      <td>9999</td>\n",
              "      <td>1</td>\n",
              "      <td>32768</td>\n",
              "      <td>NaN</td>\n",
              "      <td>A</td>\n",
              "      <td>NaN</td>\n",
              "      <td>CBOE S&amp;P 500 INDEX</td>\n",
              "      <td>I</td>\n",
              "      <td>E</td>\n",
              "      <td>1</td>\n",
              "      <td>2058.899902</td>\n",
              "      <td>2072.360107</td>\n",
              "      <td>2046.040039</td>\n",
              "      <td>2058.199951</td>\n",
              "      <td>2058.199951</td>\n",
              "      <td>2708700000</td>\n",
              "      <td>201501</td>\n",
              "      <td>0.17</td>\n",
              "      <td>0.25</td>\n",
              "      <td>0.36</td>\n",
              "      <td>0.62</td>\n",
              "      <td>49</td>\n",
              "      <td>0.011323</td>\n",
              "      <td>NaN</td>\n",
              "      <td>30.959049</td>\n",
              "    </tr>\n",
              "  </tbody>\n",
              "</table>\n",
              "</div>"
            ],
            "text/plain": [
              "      secid        date              symbol  ...     mness op_returns  embed_lev\n",
              "595  108105  2015-01-02  SPX 150220C2060000  ...  0.000874        NaN  26.067582\n",
              "596  108105  2015-01-02  SPX 150220C2065000  ...  0.003352        NaN  27.141529\n",
              "597  108105  2015-01-02  SPX 150220C2070000  ...  0.005938        NaN  28.445020\n",
              "598  108105  2015-01-02  SPX 150220C2075000  ...  0.008582        NaN  29.608519\n",
              "599  108105  2015-01-02  SPX 150220C2080000  ...  0.011323        NaN  30.959049\n",
              "\n",
              "[5 rows x 49 columns]"
            ]
          },
          "metadata": {
            "tags": []
          },
          "execution_count": 45
        }
      ]
    }
  ]
}